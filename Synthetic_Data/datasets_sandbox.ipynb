{
 "cells": [
  {
   "cell_type": "code",
   "execution_count": 2,
   "metadata": {},
   "outputs": [],
   "source": [
    "from datasets import *\n",
    "import numpy as np\n",
    "import pandas as pd"
   ]
  },
  {
   "cell_type": "code",
   "execution_count": 18,
   "metadata": {},
   "outputs": [
    {
     "name": "stdout",
     "output_type": "stream",
     "text": [
      "      time  demographic  region  hospitalization_rate  observed\n",
      "4316     1            1       0              0.517493      True\n",
      "4919     1            1       1              0.509999     False\n",
      "535      1            1       0              0.517493     False\n",
      "1386     1            3       7              0.490001     False\n",
      "942      1            0       2              0.490001     False\n",
      "2358     1            1       3              0.495000      True\n",
      "3045     1            2       1              0.522485      True\n",
      "8339     1            4       6              0.509999      True\n",
      "2362     1            4       5              0.517493      True\n",
      "5074     1            3       4              0.512497      True\n",
      "\n",
      "\n",
      "\n",
      "      dem_1     dem_2     dem_3     dem_4     dem_5\n",
      "0  0.421536  0.188815  0.196675  0.124416  0.068558\n",
      "1  0.230020  0.531843  0.012564  0.113510  0.112063\n",
      "2  0.490618  0.055924  0.096491  0.020244  0.336723\n",
      "3  0.045307  0.067228  0.298903  0.034514  0.554048\n",
      "4  0.662781  0.112258  0.054219  0.140548  0.030194\n",
      "5  0.078237  0.327362  0.192145  0.275912  0.126343\n",
      "6  0.111412  0.052400  0.610021  0.213693  0.012474\n",
      "7  0.005453  0.077502  0.198569  0.426165  0.292311\n",
      "8  0.554883  0.074614  0.126703  0.234024  0.009776\n",
      "9  0.299596  0.145150  0.177065  0.350955  0.027233\n",
      "\n",
      "\n",
      "Proportion Selected in Q:  0.6026\n"
     ]
    }
   ],
   "source": [
    "dataset_size = 10000\n",
    "num_regions = 10\n",
    "num_demographics = 5\n",
    "generator = SyntheticDataGenerator(dataset_size, num_regions, num_demographics)\n",
    "X_total, hospitalization_rate, obs, delta_r = generator.simulate_dataset()\n",
    "\n",
    "df = pd.DataFrame(X_total, columns=[\"time\", \"demographic\", \"region\"])\n",
    "df[\"hospitalization_rate\"] = hospitalization_rate\n",
    "df[\"observed\"] = obs\n",
    "df = df.sort_values(by='time')\n",
    "print(df.head(10))\n",
    "\n",
    "dem_df = pd.DataFrame(delta_r, columns=[\"dem_1\", \"dem_2\", \"dem_3\", \"dem_4\", \"dem_5\"])\n",
    "print(\"\\n\\n\")\n",
    "print(dem_df)\n",
    "\n",
    "print(\"\\n\\nProportion Selected in Q: \", obs.mean())"
   ]
  }
 ],
 "metadata": {
  "kernelspec": {
   "display_name": "Python 3",
   "language": "python",
   "name": "python3"
  },
  "language_info": {
   "codemirror_mode": {
    "name": "ipython",
    "version": 3
   },
   "file_extension": ".py",
   "mimetype": "text/x-python",
   "name": "python",
   "nbconvert_exporter": "python",
   "pygments_lexer": "ipython3",
   "version": "3.9.5"
  }
 },
 "nbformat": 4,
 "nbformat_minor": 2
}
