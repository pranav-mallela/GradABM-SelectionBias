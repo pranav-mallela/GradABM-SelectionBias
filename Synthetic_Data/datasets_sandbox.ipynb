{
 "cells": [
  {
   "cell_type": "code",
   "execution_count": 33,
   "metadata": {},
   "outputs": [],
   "source": [
    "from datasets import *\n",
    "import numpy as np\n",
    "import pandas as pd\n",
    "import matplotlib.pyplot as plt\n",
    "import seaborn as sns\n",
    "import datetime"
   ]
  },
  {
   "cell_type": "markdown",
   "metadata": {},
   "source": [
    "Using Synthetic Data from Hybrid ODE (Zhi Cao)"
   ]
  },
  {
   "cell_type": "code",
   "execution_count": 34,
   "metadata": {},
   "outputs": [],
   "source": [
    "def get_month_from_week(year, week_no):\n",
    "    start_of_year = datetime.date(year, 1, 1)\n",
    "    week_start_date = start_of_year + datetime.timedelta(weeks=week_no)\n",
    "    return week_start_date.strftime(\"%B\")\n"
   ]
  },
  {
   "cell_type": "code",
   "execution_count": 35,
   "metadata": {},
   "outputs": [
    {
     "name": "stderr",
     "output_type": "stream",
     "text": [
      "C:\\Users\\prana\\AppData\\Local\\Temp\\ipykernel_25548\\1529625770.py:6: SettingWithCopyWarning: \n",
      "A value is trying to be set on a copy of a slice from a DataFrame.\n",
      "Try using .loc[row_indexer,col_indexer] = value instead\n",
      "\n",
      "See the caveats in the documentation: https://pandas.pydata.org/pandas-docs/stable/user_guide/indexing.html#returning-a-view-versus-a-copy\n",
      "  rel_cols_df['Hospitalized_Total'] = rel_cols_df['Hospitalized_recovered'] + rel_cols_df['Hospitalized_deceased']\n",
      "C:\\Users\\prana\\AppData\\Local\\Temp\\ipykernel_25548\\1529625770.py:10: SettingWithCopyWarning: \n",
      "A value is trying to be set on a copy of a slice from a DataFrame.\n",
      "Try using .loc[row_indexer,col_indexer] = value instead\n",
      "\n",
      "See the caveats in the documentation: https://pandas.pydata.org/pandas-docs/stable/user_guide/indexing.html#returning-a-view-versus-a-copy\n",
      "  rel_cols_df['Month'] = pd.Series([get_month_from_week(start_year+rel_cols_df['time'][i]//52, int(rel_cols_df['time'][i]%52)) for i in rel_cols_df['time']])\n",
      "C:\\Users\\prana\\AppData\\Local\\Temp\\ipykernel_25548\\1529625770.py:11: SettingWithCopyWarning: \n",
      "A value is trying to be set on a copy of a slice from a DataFrame.\n",
      "Try using .loc[row_indexer,col_indexer] = value instead\n",
      "\n",
      "See the caveats in the documentation: https://pandas.pydata.org/pandas-docs/stable/user_guide/indexing.html#returning-a-view-versus-a-copy\n",
      "  rel_cols_df['Year'] = pd.Series([start_year+rel_cols_df['time'][i]//52 for i in rel_cols_df['time']])\n"
     ]
    },
    {
     "data": {
      "image/png": "[encoded data removed]",
      "text/plain": [
       "<Figure size 1000x500 with 1 Axes>"
      ]
     },
     "metadata": {},
     "output_type": "display_data"
    }
   ],
   "source": [
    "# Read data from ODE csv file\n",
    "weekly_df = pd.read_csv(\"./hybridODE_weekly_data.csv\")\n",
    "rel_cols_df = weekly_df[[\"time\", \"beta\", \"Ca\", \"Hospitalized_recovered\", \"Hospitalized_deceased\"]]\n",
    "\n",
    "# Add total hospitalizations col\n",
    "rel_cols_df['Hospitalized_Total'] = rel_cols_df['Hospitalized_recovered'] + rel_cols_df['Hospitalized_deceased']\n",
    "\n",
    "# Add Month and Year cols, assuming time = 0 is January 1, 2024\n",
    "start_year = 2024\n",
    "rel_cols_df['Month'] = pd.Series([get_month_from_week(start_year+rel_cols_df['time'][i]//52, int(rel_cols_df['time'][i]%52)) for i in rel_cols_df['time']])\n",
    "rel_cols_df['Year'] = pd.Series([start_year+rel_cols_df['time'][i]//52 for i in rel_cols_df['time']])\n",
    "\n",
    "# Create start and end weeks\n",
    "start = 0\n",
    "timesteps = 52\n",
    "end = start + timesteps\n",
    "\n",
    "# Optionally normalize hospitalizations\n",
    "# norm_hosp = rel_cols_df[\"Hospitalized_Total\"][start:end]/rel_cols_df[\"Hospitalized_Total\"][start:end].sum()\n",
    "\n",
    "# Plot hospitalizations\n",
    "plt.figure(figsize=(10, 5))\n",
    "plt.plot(rel_cols_df[\"time\"][start:end], rel_cols_df['Hospitalized_Total'][start:end], label=\"total hospitalizations %\")\n",
    "plt.legend()\n",
    "plt.show()"
   ]
  },
  {
   "cell_type": "code",
   "execution_count": 36,
   "metadata": {},
   "outputs": [
    {
     "data": {
      "text/html": [
       "<div>\n",
       "<style scoped>\n",
       "    .dataframe tbody tr th:only-of-type {\n",
       "        vertical-align: middle;\n",
       "    }\n",
       "\n",
       "    .dataframe tbody tr th {\n",
       "        vertical-align: top;\n",
       "    }\n",
       "\n",
       "    .dataframe thead th {\n",
       "        text-align: right;\n",
       "    }\n",
       "</style>\n",
       "<table border=\"1\" class=\"dataframe\">\n",
       "  <thead>\n",
       "    <tr style=\"text-align: right;\">\n",
       "      <th></th>\n",
       "      <th>time</th>\n",
       "      <th>beta</th>\n",
       "      <th>Ca</th>\n",
       "      <th>Hospitalized_recovered</th>\n",
       "      <th>Hospitalized_deceased</th>\n",
       "      <th>Hospitalized_Total</th>\n",
       "      <th>Month</th>\n",
       "      <th>Year</th>\n",
       "    </tr>\n",
       "  </thead>\n",
       "  <tbody>\n",
       "    <tr>\n",
       "      <th>0</th>\n",
       "      <td>0</td>\n",
       "      <td>0.500000</td>\n",
       "      <td>0.425</td>\n",
       "      <td>0.000171</td>\n",
       "      <td>0.000170</td>\n",
       "      <td>0.000341</td>\n",
       "      <td>January</td>\n",
       "      <td>2024</td>\n",
       "    </tr>\n",
       "    <tr>\n",
       "      <th>1</th>\n",
       "      <td>1</td>\n",
       "      <td>0.500000</td>\n",
       "      <td>0.425</td>\n",
       "      <td>0.000151</td>\n",
       "      <td>0.000155</td>\n",
       "      <td>0.000306</td>\n",
       "      <td>January</td>\n",
       "      <td>2024</td>\n",
       "    </tr>\n",
       "    <tr>\n",
       "      <th>2</th>\n",
       "      <td>2</td>\n",
       "      <td>0.500000</td>\n",
       "      <td>0.425</td>\n",
       "      <td>0.000135</td>\n",
       "      <td>0.000154</td>\n",
       "      <td>0.000289</td>\n",
       "      <td>January</td>\n",
       "      <td>2024</td>\n",
       "    </tr>\n",
       "    <tr>\n",
       "      <th>3</th>\n",
       "      <td>3</td>\n",
       "      <td>0.480491</td>\n",
       "      <td>0.425</td>\n",
       "      <td>0.000123</td>\n",
       "      <td>0.000165</td>\n",
       "      <td>0.000288</td>\n",
       "      <td>January</td>\n",
       "      <td>2024</td>\n",
       "    </tr>\n",
       "    <tr>\n",
       "      <th>4</th>\n",
       "      <td>4</td>\n",
       "      <td>0.448007</td>\n",
       "      <td>0.425</td>\n",
       "      <td>0.000115</td>\n",
       "      <td>0.000186</td>\n",
       "      <td>0.000301</td>\n",
       "      <td>January</td>\n",
       "      <td>2024</td>\n",
       "    </tr>\n",
       "  </tbody>\n",
       "</table>\n",
       "</div>"
      ],
      "text/plain": [
       "   time      beta     Ca  Hospitalized_recovered  Hospitalized_deceased  \\\n",
       "0     0  0.500000  0.425                0.000171               0.000170   \n",
       "1     1  0.500000  0.425                0.000151               0.000155   \n",
       "2     2  0.500000  0.425                0.000135               0.000154   \n",
       "3     3  0.480491  0.425                0.000123               0.000165   \n",
       "4     4  0.448007  0.425                0.000115               0.000186   \n",
       "\n",
       "   Hospitalized_Total    Month  Year  \n",
       "0            0.000341  January  2024  \n",
       "1            0.000306  January  2024  \n",
       "2            0.000289  January  2024  \n",
       "3            0.000288  January  2024  \n",
       "4            0.000301  January  2024  "
      ]
     },
     "execution_count": 36,
     "metadata": {},
     "output_type": "execute_result"
    }
   ],
   "source": [
    "# Get data based on month and year\n",
    "month, year = 'January', 2024\n",
    "yearly_data = rel_cols_df[rel_cols_df['Year'] == year]\n",
    "monthly_data = yearly_data[yearly_data['Month'] == month]\n",
    "\n",
    "monthly_data\n"
   ]
  }
 ],
 "metadata": {
  "kernelspec": {
   "display_name": "Python 3",
   "language": "python",
   "name": "python3"
  },
  "language_info": {
   "codemirror_mode": {
    "name": "ipython",
    "version": 3
   },
   "file_extension": ".py",
   "mimetype": "text/x-python",
   "name": "python",
   "nbconvert_exporter": "python",
   "pygments_lexer": "ipython3",
   "version": "3.9.5"
  }
 },
 "nbformat": 4,
 "nbformat_minor": 2
}
